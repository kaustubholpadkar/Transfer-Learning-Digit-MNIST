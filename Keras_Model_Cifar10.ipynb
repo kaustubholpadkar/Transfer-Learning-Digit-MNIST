{
  "nbformat": 4,
  "nbformat_minor": 0,
  "metadata": {
    "colab": {
      "name": "Keras Model Cifar10.ipynb",
      "version": "0.3.2",
      "provenance": [],
      "collapsed_sections": [],
      "include_colab_link": true
    },
    "kernelspec": {
      "name": "python3",
      "display_name": "Python 3"
    },
    "accelerator": "GPU"
  },
  "cells": [
    {
      "cell_type": "markdown",
      "metadata": {
        "id": "view-in-github",
        "colab_type": "text"
      },
      "source": [
        "[View in Colaboratory](https://colab.research.google.com/github/kaustubholpadkar/Transfer-Learning-Digit-MNIST/blob/develop/Keras_Model_Cifar10.ipynb)"
      ]
    },
    {
      "metadata": {
        "id": "glLbksxMrdb4",
        "colab_type": "text"
      },
      "cell_type": "markdown",
      "source": [
        "### Libraries"
      ]
    },
    {
      "metadata": {
        "id": "5GxgHl3ZoVx1",
        "colab_type": "code",
        "colab": {}
      },
      "cell_type": "code",
      "source": [
        "import numpy as np"
      ],
      "execution_count": 0,
      "outputs": []
    },
    {
      "metadata": {
        "id": "Q_PKW9Otrpca",
        "colab_type": "text"
      },
      "cell_type": "markdown",
      "source": [
        "### Load Dataset"
      ]
    },
    {
      "metadata": {
        "id": "BedQITWqqPlp",
        "colab_type": "code",
        "colab": {}
      },
      "cell_type": "code",
      "source": [
        "from keras.datasets import cifar10\n",
        "from keras.utils import to_categorical\n",
        "\n",
        "def load_data(normalized=True, onehot=True):\n",
        "  (x_train, y_train), (x_test, y_test) = cifar10.load_data()\n",
        "  if normalized:\n",
        "    x_train = x_train/255\n",
        "    x_test = x_test/255\n",
        "  if onehot:\n",
        "    y_train = to_categorical(y_train, num_classes=10)\n",
        "    y_test = to_categorical(y_test, num_classes=10)\n",
        "  return (x_train, y_train), (x_test, y_test)"
      ],
      "execution_count": 0,
      "outputs": []
    },
    {
      "metadata": {
        "id": "cMX8UJTEs6Gv",
        "colab_type": "code",
        "colab": {}
      },
      "cell_type": "code",
      "source": [
        "(x_train, y_train), (x_test, y_test) = load_data()"
      ],
      "execution_count": 0,
      "outputs": []
    },
    {
      "metadata": {
        "id": "hw-kHybttEGA",
        "colab_type": "text"
      },
      "cell_type": "markdown",
      "source": [
        "### Model"
      ]
    },
    {
      "metadata": {
        "id": "Z4y1fR5-s-qN",
        "colab_type": "code",
        "colab": {}
      },
      "cell_type": "code",
      "source": [
        "from keras.models import Sequential\n",
        "from keras.layers import Dense, Dropout, Flatten\n",
        "from keras.layers import Conv2D, MaxPooling2D\n",
        "\n",
        "def get_model():\n",
        "  model = Sequential()\n",
        "\n",
        "  model.add(Conv2D(32, (3, 3), activation='relu', input_shape=x_train.shape[1:]))\n",
        "  model.add(Conv2D(32, (3, 3), activation='relu'))\n",
        "  model.add(MaxPooling2D(pool_size=(2, 2)))\n",
        "  \n",
        "  model.add(Conv2D(64, (3, 3), activation='relu'))\n",
        "  model.add(Conv2D(64, (3, 3), activation='relu'))\n",
        "  model.add(MaxPooling2D(pool_size=(2, 2)))\n",
        "  \n",
        "  model.add(Conv2D(64, (3, 3), activation='relu'))\n",
        "  model.add(MaxPooling2D(pool_size=(2, 2)))\n",
        "\n",
        "  model.add(Flatten())\n",
        "  model.add(Dense(256, activation='relu'))\n",
        "  model.add(Dropout(0.5))\n",
        "  model.add(Dense(10, activation='softmax'))\n",
        "  \n",
        "  return model"
      ],
      "execution_count": 0,
      "outputs": []
    },
    {
      "metadata": {
        "id": "e2pSOkegtvaq",
        "colab_type": "code",
        "colab": {}
      },
      "cell_type": "code",
      "source": [
        "model = get_model()"
      ],
      "execution_count": 0,
      "outputs": []
    },
    {
      "metadata": {
        "id": "knpczGqitywC",
        "colab_type": "code",
        "colab": {}
      },
      "cell_type": "code",
      "source": [
        "model.compile(loss='categorical_crossentropy', optimizer='rmsprop', metrics=['accuracy'])"
      ],
      "execution_count": 0,
      "outputs": []
    },
    {
      "metadata": {
        "id": "xM9XO0ZA-6vp",
        "colab_type": "text"
      },
      "cell_type": "markdown",
      "source": [
        "### Training"
      ]
    },
    {
      "metadata": {
        "id": "B8-E6R6g8zq0",
        "colab_type": "code",
        "colab": {
          "base_uri": "https://localhost:8080/",
          "height": 706
        },
        "outputId": "006e54dd-41f0-46a9-86b0-e567f03fdb0a"
      },
      "cell_type": "code",
      "source": [
        "model.fit(x_train, y_train, epochs=20, batch_size=64)"
      ],
      "execution_count": 33,
      "outputs": [
        {
          "output_type": "stream",
          "text": [
            "Epoch 1/20\n",
            "50000/50000 [==============================] - 18s 352us/step - loss: 1.8063 - acc: 0.3332\n",
            "Epoch 2/20\n",
            "50000/50000 [==============================] - 21s 417us/step - loss: 1.3717 - acc: 0.5104\n",
            "Epoch 3/20\n",
            "50000/50000 [==============================] - 21s 428us/step - loss: 1.1771 - acc: 0.5881\n",
            "Epoch 4/20\n",
            "50000/50000 [==============================] - 21s 420us/step - loss: 1.0430 - acc: 0.6395\n",
            "Epoch 5/20\n",
            "50000/50000 [==============================] - 21s 417us/step - loss: 0.9467 - acc: 0.6744\n",
            "Epoch 6/20\n",
            "50000/50000 [==============================] - 21s 427us/step - loss: 0.8730 - acc: 0.7013\n",
            "Epoch 7/20\n",
            "50000/50000 [==============================] - 21s 414us/step - loss: 0.8101 - acc: 0.7219\n",
            "Epoch 8/20\n",
            "50000/50000 [==============================] - 21s 427us/step - loss: 0.7672 - acc: 0.7378\n",
            "Epoch 9/20\n",
            "50000/50000 [==============================] - 22s 432us/step - loss: 0.7291 - acc: 0.7518\n",
            "Epoch 10/20\n",
            "50000/50000 [==============================] - 21s 426us/step - loss: 0.6983 - acc: 0.7632\n",
            "Epoch 11/20\n",
            "50000/50000 [==============================] - 20s 395us/step - loss: 0.6753 - acc: 0.7701\n",
            "Epoch 12/20\n",
            "50000/50000 [==============================] - 20s 401us/step - loss: 0.6572 - acc: 0.7761\n",
            "Epoch 13/20\n",
            "50000/50000 [==============================] - 21s 412us/step - loss: 0.6543 - acc: 0.7804\n",
            "Epoch 14/20\n",
            "50000/50000 [==============================] - 22s 430us/step - loss: 0.6506 - acc: 0.7832\n",
            "Epoch 15/20\n",
            "50000/50000 [==============================] - 21s 420us/step - loss: 0.6528 - acc: 0.7839\n",
            "Epoch 16/20\n",
            "50000/50000 [==============================] - 21s 419us/step - loss: 0.6533 - acc: 0.7837\n",
            "Epoch 17/20\n",
            "50000/50000 [==============================] - 21s 427us/step - loss: 0.6580 - acc: 0.7826\n",
            "Epoch 18/20\n",
            "50000/50000 [==============================] - 21s 430us/step - loss: 0.6738 - acc: 0.7795\n",
            "Epoch 19/20\n",
            "50000/50000 [==============================] - 21s 429us/step - loss: 0.6856 - acc: 0.7777\n",
            "Epoch 20/20\n",
            "50000/50000 [==============================] - 21s 427us/step - loss: 0.7035 - acc: 0.7754\n"
          ],
          "name": "stdout"
        },
        {
          "output_type": "execute_result",
          "data": {
            "text/plain": [
              "<keras.callbacks.History at 0x7f85b503ffd0>"
            ]
          },
          "metadata": {
            "tags": []
          },
          "execution_count": 33
        }
      ]
    },
    {
      "metadata": {
        "id": "_Y8GGEj6840C",
        "colab_type": "code",
        "colab": {
          "base_uri": "https://localhost:8080/",
          "height": 50
        },
        "outputId": "d9a2ad8c-5e24-45bc-86d7-1c3dfdaff18a"
      },
      "cell_type": "code",
      "source": [
        "model.evaluate(x_test, y_test)"
      ],
      "execution_count": 24,
      "outputs": [
        {
          "output_type": "stream",
          "text": [
            "10000/10000 [==============================] - 2s 175us/step\n"
          ],
          "name": "stdout"
        },
        {
          "output_type": "execute_result",
          "data": {
            "text/plain": [
              "[0.9485038695812226, 0.72]"
            ]
          },
          "metadata": {
            "tags": []
          },
          "execution_count": 24
        }
      ]
    },
    {
      "metadata": {
        "id": "vklm1AP3_CwS",
        "colab_type": "code",
        "colab": {}
      },
      "cell_type": "code",
      "source": [
        ""
      ],
      "execution_count": 0,
      "outputs": []
    }
  ]
}